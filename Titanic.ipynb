{
  "cells": [
    {
      "cell_type": "markdown",
      "metadata": {
        "id": "view-in-github",
        "colab_type": "text"
      },
      "source": [
        "<a href=\"https://colab.research.google.com/github/OweT1/titanicisfalling/blob/main/Titanic.ipynb\" target=\"_parent\"><img src=\"https://colab.research.google.com/assets/colab-badge.svg\" alt=\"Open In Colab\"/></a>"
      ]
    },
    {
      "cell_type": "markdown",
      "source": [
        "# Importing of Packages"
      ],
      "metadata": {
        "id": "uVBbErBBmEJh"
      },
      "id": "uVBbErBBmEJh"
    },
    {
      "cell_type": "code",
      "execution_count": null,
      "id": "98074f9e",
      "metadata": {
        "id": "98074f9e"
      },
      "outputs": [],
      "source": [
        "import pandas as pd\n",
        "import numpy as np\n",
        "import matplotlib.pyplot as plt\n",
        "import seaborn as sns\n",
        "from sklearn.preprocessing import OneHotEncoder, MinMaxScaler, StandardScaler\n",
        "from sklearn.model_selection import train_test_split\n",
        "from sklearn.impute import SimpleImputer\n",
        "from sklearn.naive_bayes import GaussianNB\n",
        "from sklearn.neighbors import KNeighborsClassifier\n",
        "from sklearn.svm import SVC, LinearSVC\n",
        "from sklearn.ensemble import AdaBoostClassifier, RandomForestClassifier, VotingClassifier, StackingClassifier, BaggingClassifier\n",
        "from sklearn.decomposition import PCA\n",
        "from sklearn.linear_model import LogisticRegression\n",
        "from sklearn.tree import DecisionTreeClassifier\n",
        "from sklearn.pipeline import Pipeline\n",
        "from sklearn.metrics import accuracy_score\n",
        "np.random.seed(seed = 42)"
      ]
    },
    {
      "cell_type": "code",
      "source": [
        "from google.colab import drive\n",
        "drive.mount(\"/content/drive\")"
      ],
      "metadata": {
        "id": "FYJPA0EV08_C",
        "colab": {
          "base_uri": "https://localhost:8080/"
        },
        "outputId": "87989196-33a5-4d58-a8f0-c699b5b08f22"
      },
      "id": "FYJPA0EV08_C",
      "execution_count": null,
      "outputs": [
        {
          "output_type": "stream",
          "name": "stdout",
          "text": [
            "Drive already mounted at /content/drive; to attempt to forcibly remount, call drive.mount(\"/content/drive\", force_remount=True).\n"
          ]
        }
      ]
    },
    {
      "cell_type": "code",
      "source": [
        "!pwd"
      ],
      "metadata": {
        "colab": {
          "base_uri": "https://localhost:8080/"
        },
        "id": "OlUImhFV2beg",
        "outputId": "a684a0d9-8a96-44d4-b0a4-988369a4bbf2"
      },
      "id": "OlUImhFV2beg",
      "execution_count": null,
      "outputs": [
        {
          "output_type": "stream",
          "name": "stdout",
          "text": [
            "/content\n"
          ]
        }
      ]
    },
    {
      "cell_type": "code",
      "source": [
        "!ls /content/drive/MyDrive/'Colab Datasets'/Titanic"
      ],
      "metadata": {
        "colab": {
          "base_uri": "https://localhost:8080/"
        },
        "id": "W3EDXMWV2sX3",
        "outputId": "be619ded-6cd2-4845-e310-786d3f08beac"
      },
      "id": "W3EDXMWV2sX3",
      "execution_count": null,
      "outputs": [
        {
          "output_type": "stream",
          "name": "stdout",
          "text": [
            "test.csv  train.csv\n"
          ]
        }
      ]
    },
    {
      "cell_type": "markdown",
      "source": [
        "# Reading in data"
      ],
      "metadata": {
        "id": "TFXe8jimmMZW"
      },
      "id": "TFXe8jimmMZW"
    },
    {
      "cell_type": "code",
      "execution_count": null,
      "id": "c50547fd",
      "metadata": {
        "id": "c50547fd"
      },
      "outputs": [],
      "source": [
        "df = pd.read_csv(\"/content/drive/MyDrive/Colab Datasets/Titanic/train.csv\")"
      ]
    },
    {
      "cell_type": "markdown",
      "id": "90534c36",
      "metadata": {
        "id": "90534c36"
      },
      "source": [
        "# Data exploration"
      ]
    },
    {
      "cell_type": "code",
      "source": [
        "print(df.head())\n",
        "print(df.columns)"
      ],
      "metadata": {
        "colab": {
          "base_uri": "https://localhost:8080/"
        },
        "id": "JcTuzDDgmVIL",
        "outputId": "d43d7682-fa19-48e4-af28-043bcb54f35d"
      },
      "id": "JcTuzDDgmVIL",
      "execution_count": null,
      "outputs": [
        {
          "output_type": "stream",
          "name": "stdout",
          "text": [
            "   PassengerId  Survived  Pclass  \\\n",
            "0            1         0       3   \n",
            "1            2         1       1   \n",
            "2            3         1       3   \n",
            "3            4         1       1   \n",
            "4            5         0       3   \n",
            "\n",
            "                                                Name     Sex   Age  SibSp  \\\n",
            "0                            Braund, Mr. Owen Harris    male  22.0      1   \n",
            "1  Cumings, Mrs. John Bradley (Florence Briggs Th...  female  38.0      1   \n",
            "2                             Heikkinen, Miss. Laina  female  26.0      0   \n",
            "3       Futrelle, Mrs. Jacques Heath (Lily May Peel)  female  35.0      1   \n",
            "4                           Allen, Mr. William Henry    male  35.0      0   \n",
            "\n",
            "   Parch            Ticket     Fare Cabin Embarked  \n",
            "0      0         A/5 21171   7.2500   NaN        S  \n",
            "1      0          PC 17599  71.2833   C85        C  \n",
            "2      0  STON/O2. 3101282   7.9250   NaN        S  \n",
            "3      0            113803  53.1000  C123        S  \n",
            "4      0            373450   8.0500   NaN        S  \n",
            "Index(['PassengerId', 'Survived', 'Pclass', 'Name', 'Sex', 'Age', 'SibSp',\n",
            "       'Parch', 'Ticket', 'Fare', 'Cabin', 'Embarked'],\n",
            "      dtype='object')\n"
          ]
        }
      ]
    },
    {
      "cell_type": "code",
      "execution_count": null,
      "id": "8f48286d",
      "metadata": {
        "id": "8f48286d",
        "outputId": "4c9f30ff-5bd9-48ee-9eb6-817c6a0d8172",
        "colab": {
          "base_uri": "https://localhost:8080/"
        }
      },
      "outputs": [
        {
          "output_type": "stream",
          "name": "stdout",
          "text": [
            "[3 1 2]\n",
            "[1 0 3 4 2 5 8]\n",
            "[0 1 2 5 3 4 6]\n",
            "['S' 'C' 'Q' nan]\n"
          ]
        }
      ],
      "source": [
        "print(df['Pclass'].unique())\n",
        "print(df['SibSp'].unique())\n",
        "print(df['Parch'].unique())\n",
        "# print(df['Ticket'].unique())\n",
        "# print(df['Cabin'].unique())\n",
        "print(df['Embarked'].unique())"
      ]
    },
    {
      "cell_type": "code",
      "execution_count": null,
      "id": "50ad733a",
      "metadata": {
        "id": "50ad733a",
        "outputId": "992084ec-fefd-4eb4-fbcb-81ea955a4351",
        "colab": {
          "base_uri": "https://localhost:8080/"
        }
      },
      "outputs": [
        {
          "output_type": "stream",
          "name": "stdout",
          "text": [
            "Embarked\n",
            "S    644\n",
            "C    168\n",
            "Q     77\n",
            "Name: count, dtype: int64\n",
            "PassengerId      0\n",
            "Survived         0\n",
            "Pclass           0\n",
            "Name             0\n",
            "Sex              0\n",
            "Age            177\n",
            "SibSp            0\n",
            "Parch            0\n",
            "Ticket           0\n",
            "Fare             0\n",
            "Cabin          687\n",
            "Embarked         2\n",
            "dtype: int64\n"
          ]
        }
      ],
      "source": [
        "print(df['Embarked'].value_counts())\n",
        "print(df.isna().sum())"
      ]
    },
    {
      "cell_type": "code",
      "source": [
        "print(df['Survived'].value_counts())"
      ],
      "metadata": {
        "colab": {
          "base_uri": "https://localhost:8080/"
        },
        "id": "7W7cV-asXbqh",
        "outputId": "66a50ad6-d83f-47a0-ab60-ccfe24700843"
      },
      "id": "7W7cV-asXbqh",
      "execution_count": null,
      "outputs": [
        {
          "output_type": "stream",
          "name": "stdout",
          "text": [
            "Survived\n",
            "0    549\n",
            "1    342\n",
            "Name: count, dtype: int64\n"
          ]
        }
      ]
    },
    {
      "cell_type": "code",
      "source": [
        "print(df.dtypes)"
      ],
      "metadata": {
        "colab": {
          "base_uri": "https://localhost:8080/"
        },
        "id": "oDR7TQKPXnFx",
        "outputId": "c97b363d-0316-4db6-af68-bdfa1fc5d727"
      },
      "id": "oDR7TQKPXnFx",
      "execution_count": null,
      "outputs": [
        {
          "output_type": "stream",
          "name": "stdout",
          "text": [
            "PassengerId      int64\n",
            "Survived         int64\n",
            "Pclass           int64\n",
            "Name            object\n",
            "Sex             object\n",
            "Age            float64\n",
            "SibSp            int64\n",
            "Parch            int64\n",
            "Ticket          object\n",
            "Fare           float64\n",
            "Cabin           object\n",
            "Embarked        object\n",
            "dtype: object\n"
          ]
        }
      ]
    },
    {
      "cell_type": "markdown",
      "source": [
        "# Splitting of Data\n",
        "We will drop the non-relevant data, such as the `PassengerId`, `Name`, `Cabin` and `Ticket`. These are dropped as they will not be useful to our models."
      ],
      "metadata": {
        "id": "ZHABbuBPmaxY"
      },
      "id": "ZHABbuBPmaxY"
    },
    {
      "cell_type": "code",
      "source": [
        "X = df.drop(['PassengerId', 'Survived', 'Name', 'Cabin', 'Ticket'], axis = 1)\n",
        "y = df[['Survived']]\n",
        "\n",
        "X_train, X_test, y_train, y_test = train_test_split(X, y, stratify = y, test_size = 0.2)\n",
        "\n",
        "X_train.reset_index(inplace = True, drop = True)\n",
        "X_test.reset_index(inplace = True, drop = True)\n",
        "y_train.reset_index(inplace = True, drop = True)\n",
        "y_test.reset_index(inplace = True, drop = True)"
      ],
      "metadata": {
        "id": "HM60RlbhnW16"
      },
      "id": "HM60RlbhnW16",
      "execution_count": null,
      "outputs": []
    },
    {
      "cell_type": "markdown",
      "source": [
        "# Imputing Values\n",
        "After splitting the data, we will impute the missing data seperately. For this case, we will only need to impute for our `Age` & `Embarked` columns. We will do so by employing the mean and most_frequent strategies to impute the missing data.\n"
      ],
      "metadata": {
        "id": "ALiWH-8VoXrt"
      },
      "id": "ALiWH-8VoXrt"
    },
    {
      "cell_type": "code",
      "source": [
        "print(X_train.isna().sum())\n",
        "print(X_test.isna().sum())"
      ],
      "metadata": {
        "colab": {
          "base_uri": "https://localhost:8080/"
        },
        "id": "032PjgP6o81Z",
        "outputId": "79d2891b-72f0-4c9d-fdb9-12276daea8a3"
      },
      "id": "032PjgP6o81Z",
      "execution_count": null,
      "outputs": [
        {
          "output_type": "stream",
          "name": "stdout",
          "text": [
            "Pclass        0\n",
            "Sex           0\n",
            "Age         137\n",
            "SibSp         0\n",
            "Parch         0\n",
            "Fare          0\n",
            "Embarked      2\n",
            "dtype: int64\n",
            "Pclass       0\n",
            "Sex          0\n",
            "Age         40\n",
            "SibSp        0\n",
            "Parch        0\n",
            "Fare         0\n",
            "Embarked     0\n",
            "dtype: int64\n"
          ]
        }
      ]
    },
    {
      "cell_type": "code",
      "source": [
        "print(X_train[pd.isna(X_train['Embarked'])])"
      ],
      "metadata": {
        "colab": {
          "base_uri": "https://localhost:8080/"
        },
        "id": "xw56db5NpNna",
        "outputId": "e860c9fa-99e5-4aa0-ec1f-7b0d1b186b2b"
      },
      "id": "xw56db5NpNna",
      "execution_count": null,
      "outputs": [
        {
          "output_type": "stream",
          "name": "stdout",
          "text": [
            "     Pclass     Sex   Age  SibSp  Parch  Fare Embarked\n",
            "562       1  female  62.0      0      0  80.0      NaN\n",
            "595       1  female  38.0      0      0  80.0      NaN\n"
          ]
        }
      ]
    },
    {
      "cell_type": "code",
      "source": [
        "age_imputer = SimpleImputer(strategy = 'mean')\n",
        "X_train['Age'] = age_imputer.fit_transform(X_train[['Age']])\n",
        "X_test['Age'] = age_imputer.transform(X_test[['Age']])\n",
        "\n",
        "# Imputing of 'Embarked' column (Which does not work)\n",
        "# embarked_imputer = SimpleImputer(strategy = 'most_frequent')\n",
        "# X_train['Embarked'] = embarked_imputer.fit_transform(X_train[['Embarked']])\n",
        "# X_test['Embarked'] = embarked_imputer.transform(X_test[['Embarked']])\n",
        "\n",
        "X_train['Embarked'].fillna(\"C\", inplace = True)\n",
        "X_test['Embarked'].fillna(\"C\", inplace = True)\n",
        "\n",
        "# Check that Age & Embarked values are imputed\n",
        "print(X_train.isna().sum())\n",
        "print(X_test.isna().sum())\n",
        "print(X_train.shape)"
      ],
      "metadata": {
        "colab": {
          "base_uri": "https://localhost:8080/"
        },
        "id": "erelIE8MpfEU",
        "outputId": "947fe6d2-5bb3-4b9c-b5ff-e6ce81dd6893"
      },
      "id": "erelIE8MpfEU",
      "execution_count": null,
      "outputs": [
        {
          "output_type": "stream",
          "name": "stdout",
          "text": [
            "Pclass      0\n",
            "Sex         0\n",
            "Age         0\n",
            "SibSp       0\n",
            "Parch       0\n",
            "Fare        0\n",
            "Embarked    0\n",
            "dtype: int64\n",
            "Pclass      0\n",
            "Sex         0\n",
            "Age         0\n",
            "SibSp       0\n",
            "Parch       0\n",
            "Fare        0\n",
            "Embarked    0\n",
            "dtype: int64\n",
            "(712, 7)\n"
          ]
        }
      ]
    },
    {
      "cell_type": "markdown",
      "source": [
        "# One Hot Encoding\n",
        "Our categorical variables are `Sex` and `Embarked`. We will perform One Hot Encoding on these columns to make them usable by machine learning models."
      ],
      "metadata": {
        "id": "HH4N92fMkBY1"
      },
      "id": "HH4N92fMkBY1"
    },
    {
      "cell_type": "code",
      "execution_count": null,
      "id": "de3c00bf",
      "metadata": {
        "id": "de3c00bf"
      },
      "outputs": [],
      "source": [
        "categorical_var = ['Sex', 'Embarked', 'Pclass', 'SibSp', 'Parch']\n",
        "\n",
        "encoder = OneHotEncoder(sparse_output = False, drop = 'first', handle_unknown = 'infrequent_if_exist')\n",
        "\n",
        "X_train_one_hot_encoded = encoder.fit_transform(X_train[categorical_var])\n",
        "X_train_one_hot_df = pd.DataFrame(X_train_one_hot_encoded, columns = encoder.get_feature_names_out(categorical_var))\n",
        "\n",
        "X_train = pd.concat([X_train, X_train_one_hot_df], axis = 1)\n",
        "X_train = X_train.drop(categorical_var, axis = 1)\n",
        "\n",
        "X_test_one_hot_encoded = encoder.transform(X_test[categorical_var])\n",
        "X_test_one_hot_df = pd.DataFrame(X_test_one_hot_encoded, columns = encoder.get_feature_names_out(categorical_var))\n",
        "\n",
        "X_test = pd.concat([X_test, X_test_one_hot_df], axis = 1)\n",
        "X_test = X_test.drop(categorical_var, axis = 1)"
      ]
    },
    {
      "cell_type": "code",
      "source": [
        "# encoded_df = pd.get_dummies(X_train, columns = categorical_var, drop_first = True, dtype = int)\n",
        "# print(encoded_df)"
      ],
      "metadata": {
        "id": "gZk05wLOLS43"
      },
      "id": "gZk05wLOLS43",
      "execution_count": null,
      "outputs": []
    },
    {
      "cell_type": "markdown",
      "source": [
        "# Scaling of values\n",
        "We will need to scale the ordinal columns of our dataframe before we proceed to fit it into our model. We will use a Standard Scaler for this."
      ],
      "metadata": {
        "id": "krX4zZOItss-"
      },
      "id": "krX4zZOItss-"
    },
    {
      "cell_type": "code",
      "source": [
        "scaler = StandardScaler()\n",
        "# scaler = MinMaxScaler() - Produced worse results\n",
        "\n",
        "ord_var = ['Age', 'Fare']\n",
        "\n",
        "new_ord_var_train = pd.DataFrame(scaler.fit_transform(X_train[ord_var]), columns = ord_var)\n",
        "X_train = X_train.drop(ord_var, axis = 1)\n",
        "X_train = pd.concat([X_train, new_ord_var_train], axis = 1)\n",
        "\n",
        "new_ord_var_test = pd.DataFrame(scaler.transform(X_test[ord_var]), columns = ord_var)\n",
        "X_test = X_test.drop(ord_var, axis = 1)\n",
        "X_test = pd.concat([X_test, new_ord_var_test], axis = 1)"
      ],
      "metadata": {
        "id": "gVzyAUnht1vW"
      },
      "id": "gVzyAUnht1vW",
      "execution_count": null,
      "outputs": []
    },
    {
      "cell_type": "markdown",
      "source": [
        "# Correlations between features and target"
      ],
      "metadata": {
        "id": "zNdtSR_jnWmF"
      },
      "id": "zNdtSR_jnWmF"
    },
    {
      "cell_type": "code",
      "execution_count": null,
      "id": "273cceb1",
      "metadata": {
        "id": "273cceb1",
        "outputId": "2c517b70-fea0-4551-afd4-4899f6499eb9",
        "colab": {
          "base_uri": "https://localhost:8080/",
          "height": 1000
        }
      },
      "outputs": [
        {
          "output_type": "display_data",
          "data": {
            "text/plain": [
              "<Figure size 640x480 with 2 Axes>"
            ],
            "image/png": "[encoded data removed]"
          },
          "metadata": {}
        },
        {
          "output_type": "stream",
          "name": "stdout",
          "text": [
            "            Sex_male  Embarked_Q  Embarked_S  Pclass_2  Pclass_3   SibSp_1  \\\n",
            "Sex_male    1.000000   -0.081956    0.146864 -0.033818  0.135271 -0.200197   \n",
            "Embarked_Q -0.081956    1.000000   -0.469457 -0.123677  0.230440 -0.045835   \n",
            "Embarked_S  0.146864   -0.469457    1.000000  0.210451  0.016651 -0.036250   \n",
            "Pclass_2   -0.033818   -0.123677    0.210451  1.000000 -0.570182  0.085477   \n",
            "Pclass_3    0.135271    0.230440    0.016651 -0.570182  1.000000 -0.168012   \n",
            "SibSp_1    -0.200197   -0.045835   -0.036250  0.085477 -0.168012  1.000000   \n",
            "SibSp_2    -0.044019    0.011747   -0.022658  0.072794 -0.025564 -0.095368   \n",
            "SibSp_3    -0.061012   -0.034533    0.073559 -0.061661  0.108142 -0.065292   \n",
            "SibSp_4     0.006744    0.067449    0.024725 -0.075789  0.132921 -0.080253   \n",
            "SibSp_5     0.048294   -0.018821    0.040090 -0.033606  0.058939 -0.035585   \n",
            "SibSp_8    -0.007848   -0.024332    0.051830 -0.043446  0.076197 -0.046005   \n",
            "Parch_1    -0.143886   -0.035140   -0.010437  0.063047 -0.071883  0.210365   \n",
            "Parch_2    -0.171158   -0.088567    0.053839  0.001832  0.005057 -0.000603   \n",
            "Parch_3    -0.078130   -0.024332    0.014174  0.039044  0.008593  0.073833   \n",
            "Parch_4    -0.022719   -0.021748    0.046325 -0.038832  0.030340  0.092769   \n",
            "Parch_5    -0.078130    0.038665    0.014174 -0.043446  0.076197  0.073833   \n",
            "Parch_6    -0.050514   -0.010851    0.023114 -0.019375  0.033980  0.068554   \n",
            "Age         0.078427   -0.004636   -0.038771  0.011638 -0.268520  0.013415   \n",
            "Fare       -0.206986   -0.111737   -0.207842 -0.118436 -0.417310  0.140949   \n",
            "Survived   -0.549171    0.031501   -0.186567  0.067194 -0.318827  0.172321   \n",
            "\n",
            "             SibSp_2   SibSp_3   SibSp_4   SibSp_5       SibSp_8   Parch_1  \\\n",
            "Sex_male   -0.044019 -0.061012  0.006744  0.048294 -7.847581e-03 -0.143886   \n",
            "Embarked_Q  0.011747 -0.034533  0.067449 -0.018821 -2.433178e-02 -0.035140   \n",
            "Embarked_S -0.022658  0.073559  0.024725  0.040090  5.182967e-02 -0.010437   \n",
            "Pclass_2    0.072794 -0.061661 -0.075789 -0.033606 -4.344630e-02  0.063047   \n",
            "Pclass_3   -0.025564  0.108142  0.132921  0.058939  7.619727e-02 -0.071883   \n",
            "SibSp_1    -0.095368 -0.065292 -0.080253 -0.035585 -4.600520e-02  0.210365   \n",
            "SibSp_2     1.000000 -0.020807 -0.025574 -0.011340 -1.466040e-02  0.079149   \n",
            "SibSp_3    -0.020807  1.000000 -0.017509 -0.007764 -1.003707e-02  0.164998   \n",
            "SibSp_4    -0.025574 -0.017509  1.000000 -0.009543 -1.233686e-02  0.145022   \n",
            "SibSp_5    -0.011340 -0.007764 -0.009543  1.000000 -5.470321e-03 -0.025369   \n",
            "SibSp_8    -0.014660 -0.010037 -0.012337 -0.005470  1.000000e+00 -0.032798   \n",
            "Parch_1     0.079149  0.164998  0.145022 -0.025369 -3.279782e-02  1.000000   \n",
            "Parch_2     0.065278  0.091397  0.234640  0.212502  2.747267e-01 -0.119383   \n",
            "Parch_3     0.084751 -0.010037 -0.012337 -0.005470 -7.072136e-03 -0.032798   \n",
            "Parch_4    -0.013103 -0.008971 -0.011027 -0.004889 -6.321042e-03 -0.029315   \n",
            "Parch_5    -0.014660 -0.010037 -0.012337 -0.005470 -7.072136e-03 -0.032798   \n",
            "Parch_6    -0.006538 -0.004476 -0.005502 -0.002440 -3.153846e-03 -0.014626   \n",
            "Age        -0.107096 -0.134581 -0.250491 -0.092399 -2.147435e-17 -0.164738   \n",
            "Fare        0.094360 -0.019639 -0.000811  0.020426  6.606837e-02  0.104946   \n",
            "Survived    0.050333 -0.069573 -0.055343 -0.051296 -6.631692e-02  0.127637   \n",
            "\n",
            "             Parch_2   Parch_3   Parch_4   Parch_5   Parch_6           Age  \\\n",
            "Sex_male   -0.171158 -0.078130 -0.022719 -0.078130 -0.050514  7.842710e-02   \n",
            "Embarked_Q -0.088567 -0.024332 -0.021748  0.038665 -0.010851 -4.635898e-03   \n",
            "Embarked_S  0.053839  0.014174  0.046325  0.014174  0.023114 -3.877132e-02   \n",
            "Pclass_2    0.001832  0.039044 -0.038832 -0.043446 -0.019375  1.163767e-02   \n",
            "Pclass_3    0.005057  0.008593  0.030340  0.076197  0.033980 -2.685198e-01   \n",
            "SibSp_1    -0.000603  0.073833  0.092769  0.073833  0.068554  1.341509e-02   \n",
            "SibSp_2     0.065278  0.084751 -0.013103 -0.014660 -0.006538 -1.070958e-01   \n",
            "SibSp_3     0.091397 -0.010037 -0.008971 -0.010037 -0.004476 -1.345811e-01   \n",
            "SibSp_4     0.234640 -0.012337 -0.011027 -0.012337 -0.005502 -2.504908e-01   \n",
            "SibSp_5     0.212502 -0.005470 -0.004889 -0.005470 -0.002440 -9.239873e-02   \n",
            "SibSp_8     0.274727 -0.007072 -0.006321 -0.007072 -0.003154 -2.147435e-17   \n",
            "Parch_1    -0.119383 -0.032798 -0.029315 -0.032798 -0.014626 -1.647376e-01   \n",
            "Parch_2     1.000000 -0.025742 -0.023008 -0.025742 -0.011480 -2.665168e-01   \n",
            "Parch_3    -0.025742  1.000000 -0.006321 -0.007072 -0.003154  2.193464e-02   \n",
            "Parch_4    -0.023008 -0.006321  1.000000 -0.006321 -0.002819  8.491077e-02   \n",
            "Parch_5    -0.025742 -0.007072 -0.006321  1.000000 -0.003154  6.073053e-02   \n",
            "Parch_6    -0.011480 -0.003154 -0.002819 -0.003154  1.000000  3.804043e-02   \n",
            "Age        -0.266517  0.021935  0.084911  0.060731  0.038040  1.000000e+00   \n",
            "Fare        0.156212 -0.010276  0.083184  0.001279  0.011776  1.010189e-01   \n",
            "Survived    0.099192  0.037458 -0.059274 -0.031725 -0.029574 -7.646209e-02   \n",
            "\n",
            "                Fare  Survived  \n",
            "Sex_male   -0.206986 -0.549171  \n",
            "Embarked_Q -0.111737  0.031501  \n",
            "Embarked_S -0.207842 -0.186567  \n",
            "Pclass_2   -0.118436  0.067194  \n",
            "Pclass_3   -0.417310 -0.318827  \n",
            "SibSp_1     0.140949  0.172321  \n",
            "SibSp_2     0.094360  0.050333  \n",
            "SibSp_3    -0.019639 -0.069573  \n",
            "SibSp_4    -0.000811 -0.055343  \n",
            "SibSp_5     0.020426 -0.051296  \n",
            "SibSp_8     0.066068 -0.066317  \n",
            "Parch_1     0.104946  0.127637  \n",
            "Parch_2     0.156212  0.099192  \n",
            "Parch_3    -0.010276  0.037458  \n",
            "Parch_4     0.083184 -0.059274  \n",
            "Parch_5     0.001279 -0.031725  \n",
            "Parch_6     0.011776 -0.029574  \n",
            "Age         0.101019 -0.076462  \n",
            "Fare        1.000000  0.275499  \n",
            "Survived    0.275499  1.000000  \n"
          ]
        }
      ],
      "source": [
        "sns.heatmap(pd.concat([X_train, y_train], axis = 1).corr())\n",
        "plt.show()\n",
        "print(pd.concat([X_train, y_train], axis = 1).corr())"
      ]
    },
    {
      "cell_type": "markdown",
      "source": [
        "From the above correlation plot, we can see some strong correlations between:\n",
        "1. `Sex_male` & `Survived` (Meaning if they were male, they were less likely to survive)\n",
        "2. `PClass` & `Survived` (The higher their PClass, the lower their survival rates)\n",
        "3. `PClass` & `Fare` (The higher the PClass, the lower the fare)\n",
        "4. `PClass` & `Age` (The higher the age, the lower the PClass?)\n",
        "\n",
        "These trends do make sense with the contextual knowledge we have: Usually in such disasters, they will give higher priority to rescuing women and children, hence men will have much lower survival rates as compared to women. Secondly, those with higher `PClass` may have lesser chances of survival since their class is considered worse, and so the prices of these tickets would be lower. Additionally, people who are older are more able to afford higher-price tickets, hence the correlation between `PClass` & `Age`.\n"
      ],
      "metadata": {
        "id": "EwYbswBflOxK"
      },
      "id": "EwYbswBflOxK"
    },
    {
      "cell_type": "code",
      "source": [
        "print(X_train.head())"
      ],
      "metadata": {
        "colab": {
          "base_uri": "https://localhost:8080/"
        },
        "id": "KEq63p-Oc8q7",
        "outputId": "12470c10-9645-4d5d-b6e9-b1963e56f2e1"
      },
      "id": "KEq63p-Oc8q7",
      "execution_count": null,
      "outputs": [
        {
          "output_type": "stream",
          "name": "stdout",
          "text": [
            "   Sex_male  Embarked_Q  Embarked_S  Pclass_2  Pclass_3  SibSp_1  SibSp_2  \\\n",
            "0       1.0         0.0         1.0       0.0       1.0      0.0      0.0   \n",
            "1       1.0         0.0         1.0       1.0       0.0      0.0      0.0   \n",
            "2       1.0         0.0         1.0       0.0       0.0      0.0      0.0   \n",
            "3       0.0         0.0         1.0       0.0       1.0      0.0      0.0   \n",
            "4       0.0         0.0         1.0       1.0       0.0      1.0      0.0   \n",
            "\n",
            "   SibSp_3  SibSp_4  SibSp_5  SibSp_8  Parch_1  Parch_2  Parch_3  Parch_4  \\\n",
            "0      0.0      0.0      0.0      0.0      0.0      0.0      0.0      0.0   \n",
            "1      0.0      0.0      0.0      0.0      0.0      0.0      0.0      0.0   \n",
            "2      0.0      0.0      0.0      0.0      0.0      0.0      0.0      0.0   \n",
            "3      0.0      0.0      0.0      0.0      1.0      0.0      0.0      0.0   \n",
            "4      0.0      0.0      0.0      0.0      1.0      0.0      0.0      0.0   \n",
            "\n",
            "   Parch_5  Parch_6           Age      Fare  \n",
            "0      0.0      0.0 -5.463229e-16  0.513812  \n",
            "1      0.0      0.0 -5.463229e-16 -0.662563  \n",
            "2      0.0      0.0 -5.463229e-16  3.955399  \n",
            "3      0.0      0.0 -9.078708e-01 -0.467874  \n",
            "4      0.0      0.0  9.167471e-02 -0.115977  \n"
          ]
        }
      ]
    },
    {
      "cell_type": "markdown",
      "source": [
        "# Prediction Models\n",
        "After processing our data, we will now look to do some predictions using the processed data. We will try using the following models to predict the survival rates of the passengers:\n",
        "1. Naive Bayes\n",
        "2. Logistic Regression\n",
        "3. Decision Tree\n",
        "4. K Nearest Neighbors\n",
        "5. AdaBoosting (Ensemble)\n",
        "6. Random Forest (Ensemble)\n",
        "7. Support Vector Machine\n",
        "8. PCA & Logistic Regression\n",
        "9. Majority Voting (Ensemble)\n",
        "10. Stacking (Ensemble)\n"
      ],
      "metadata": {
        "id": "9JtlRuuoqSqM"
      },
      "id": "9JtlRuuoqSqM"
    },
    {
      "cell_type": "code",
      "source": [
        "gnb = GaussianNB()\n",
        "\n",
        "gnb.fit(X_train, y_train)\n",
        "\n",
        "print(\"Naive Bayes Accuracy: \", gnb.score(X_test, y_test))"
      ],
      "metadata": {
        "colab": {
          "base_uri": "https://localhost:8080/"
        },
        "id": "b5ddmMODrn7V",
        "outputId": "bf18ad8f-ccbf-4aff-8e3b-b628f6871312"
      },
      "id": "b5ddmMODrn7V",
      "execution_count": null,
      "outputs": [
        {
          "output_type": "stream",
          "name": "stdout",
          "text": [
            "Naive Bayes Accuracy:  0.40782122905027934\n"
          ]
        },
        {
          "output_type": "stream",
          "name": "stderr",
          "text": [
            "/usr/local/lib/python3.10/dist-packages/sklearn/utils/validation.py:1143: DataConversionWarning: A column-vector y was passed when a 1d array was expected. Please change the shape of y to (n_samples, ), for example using ravel().\n",
            "  y = column_or_1d(y, warn=True)\n"
          ]
        }
      ]
    },
    {
      "cell_type": "code",
      "source": [
        "log = LogisticRegression()\n",
        "\n",
        "log.fit(X_train, y_train)\n",
        "\n",
        "print(\"Logistic Regression Accuracy: \", log.score(X_test, y_test))"
      ],
      "metadata": {
        "colab": {
          "base_uri": "https://localhost:8080/"
        },
        "id": "kCSBs4TjcSS6",
        "outputId": "05e54c3c-7acc-4de9-a237-1ca8e48d17d7"
      },
      "id": "kCSBs4TjcSS6",
      "execution_count": null,
      "outputs": [
        {
          "output_type": "stream",
          "name": "stdout",
          "text": [
            "Logistic Regression Accuracy:  0.7877094972067039\n"
          ]
        },
        {
          "output_type": "stream",
          "name": "stderr",
          "text": [
            "/usr/local/lib/python3.10/dist-packages/sklearn/utils/validation.py:1143: DataConversionWarning: A column-vector y was passed when a 1d array was expected. Please change the shape of y to (n_samples, ), for example using ravel().\n",
            "  y = column_or_1d(y, warn=True)\n"
          ]
        }
      ]
    },
    {
      "cell_type": "code",
      "source": [
        "dtr = DecisionTreeClassifier()\n",
        "\n",
        "dtr.fit(X_train, y_train)\n",
        "\n",
        "print(\"Decision Tree Accuracy: \", dtr.score(X_test, y_test))"
      ],
      "metadata": {
        "colab": {
          "base_uri": "https://localhost:8080/"
        },
        "id": "66G4ySjVcbrV",
        "outputId": "2e7f827a-4d78-44ab-8972-e1ccb6856398"
      },
      "id": "66G4ySjVcbrV",
      "execution_count": null,
      "outputs": [
        {
          "output_type": "stream",
          "name": "stdout",
          "text": [
            "Decision Tree Accuracy:  0.776536312849162\n"
          ]
        }
      ]
    },
    {
      "cell_type": "code",
      "source": [
        "knn = KNeighborsClassifier(n_jobs = -1)\n",
        "\n",
        "knn.fit(X_train, y_train)\n",
        "\n",
        "print(\"K Nearest Neighbors Accuracy: \", knn.score(X_test, y_test))"
      ],
      "metadata": {
        "id": "Y7o92GgZrAPi",
        "colab": {
          "base_uri": "https://localhost:8080/"
        },
        "outputId": "86f30e17-f58e-4066-b012-3c95c817dc82"
      },
      "id": "Y7o92GgZrAPi",
      "execution_count": null,
      "outputs": [
        {
          "output_type": "stream",
          "name": "stdout",
          "text": [
            "K Nearest Neighbors Accuracy:  0.8044692737430168\n"
          ]
        },
        {
          "output_type": "stream",
          "name": "stderr",
          "text": [
            "/usr/local/lib/python3.10/dist-packages/sklearn/neighbors/_classification.py:215: DataConversionWarning: A column-vector y was passed when a 1d array was expected. Please change the shape of y to (n_samples,), for example using ravel().\n",
            "  return self._fit(X, y)\n"
          ]
        }
      ]
    },
    {
      "cell_type": "code",
      "source": [
        "ada = AdaBoostClassifier(n_estimators = 100, learning_rate = 1.0, algorithm = \"SAMME\")\n",
        "\n",
        "ada.fit(X_train, y_train)\n",
        "\n",
        "print(\"AdaBoost Accuracy: \", ada.score(X_test, y_test))"
      ],
      "metadata": {
        "id": "aGhCBH3SqdyI",
        "colab": {
          "base_uri": "https://localhost:8080/"
        },
        "outputId": "1f210287-d8f7-4c6c-9c31-9da109c54f00"
      },
      "id": "aGhCBH3SqdyI",
      "execution_count": null,
      "outputs": [
        {
          "output_type": "stream",
          "name": "stderr",
          "text": [
            "/usr/local/lib/python3.10/dist-packages/sklearn/utils/validation.py:1143: DataConversionWarning: A column-vector y was passed when a 1d array was expected. Please change the shape of y to (n_samples, ), for example using ravel().\n",
            "  y = column_or_1d(y, warn=True)\n"
          ]
        },
        {
          "output_type": "stream",
          "name": "stdout",
          "text": [
            "AdaBoost Accuracy:  0.7821229050279329\n"
          ]
        }
      ]
    },
    {
      "cell_type": "code",
      "source": [
        "rfc = RandomForestClassifier(n_estimators = 100, n_jobs = -1)\n",
        "\n",
        "rfc.fit(X_train, y_train)\n",
        "\n",
        "print(\"Random Forest Accuracy: \", rfc.score(X_test, y_test))"
      ],
      "metadata": {
        "id": "RYxUEul8qSDy",
        "colab": {
          "base_uri": "https://localhost:8080/"
        },
        "outputId": "46b637e7-0b01-4581-9a54-b2ea5cf6400f"
      },
      "id": "RYxUEul8qSDy",
      "execution_count": null,
      "outputs": [
        {
          "output_type": "stream",
          "name": "stderr",
          "text": [
            "<ipython-input-573-4afd847e962b>:3: DataConversionWarning: A column-vector y was passed when a 1d array was expected. Please change the shape of y to (n_samples,), for example using ravel().\n",
            "  rfc.fit(X_train, y_train)\n"
          ]
        },
        {
          "output_type": "stream",
          "name": "stdout",
          "text": [
            "Random Forest Accuracy:  0.8212290502793296\n"
          ]
        }
      ]
    },
    {
      "cell_type": "code",
      "source": [
        "svm = SVC()\n",
        "\n",
        "svm.fit(X_train, y_train)\n",
        "\n",
        "print(\"Normal SVM Accuracy: \" , svm.score(X_test, y_test))\n",
        "\n",
        "lin_svm = LinearSVC()\n",
        "\n",
        "lin_svm.fit(X_train, y_train)\n",
        "\n",
        "print(\"Linear SVM Accuracy: \" , lin_svm.score(X_test, y_test))"
      ],
      "metadata": {
        "colab": {
          "base_uri": "https://localhost:8080/"
        },
        "id": "WtJY-AgyEYc1",
        "outputId": "73bbd6b8-5eff-4d8f-9e5f-b5db000e7141"
      },
      "id": "WtJY-AgyEYc1",
      "execution_count": null,
      "outputs": [
        {
          "output_type": "stream",
          "name": "stdout",
          "text": [
            "Normal SVM Accuracy:  0.8156424581005587\n",
            "Linear SVM Accuracy:  0.8044692737430168\n"
          ]
        },
        {
          "output_type": "stream",
          "name": "stderr",
          "text": [
            "/usr/local/lib/python3.10/dist-packages/sklearn/utils/validation.py:1143: DataConversionWarning: A column-vector y was passed when a 1d array was expected. Please change the shape of y to (n_samples, ), for example using ravel().\n",
            "  y = column_or_1d(y, warn=True)\n",
            "/usr/local/lib/python3.10/dist-packages/sklearn/utils/validation.py:1143: DataConversionWarning: A column-vector y was passed when a 1d array was expected. Please change the shape of y to (n_samples, ), for example using ravel().\n",
            "  y = column_or_1d(y, warn=True)\n",
            "/usr/local/lib/python3.10/dist-packages/sklearn/svm/_base.py:1244: ConvergenceWarning: Liblinear failed to converge, increase the number of iterations.\n",
            "  warnings.warn(\n"
          ]
        }
      ]
    },
    {
      "cell_type": "code",
      "source": [
        "log_pca = LogisticRegression()\n",
        "pca = PCA(n_components = 10)\n",
        "\n",
        "X_train_pca = pd.DataFrame(pca.fit_transform(X_train))\n",
        "X_test_pca = pd.DataFrame(pca.transform(X_test))\n",
        "\n",
        "print(\"Variance of PCA Components: \", pca.explained_variance_ratio_)\n",
        "\n",
        "log_pca.fit(X_train_pca, y_train)\n",
        "print(\"PCA & Logistic Regression Accuracy: \", log_pca.score(X_test_pca, y_test))\n",
        "\n",
        "# Alternatively, using a pipeline\n",
        "\n",
        "pipe = Pipeline([('pca', pca), ('log', log_pca)])\n",
        "pipe.fit(X_train_pca, y_train)\n",
        "print(\"PCA & Logistic Regression Accuracy: \", accuracy_score(y_test, pipe.predict(X_test_pca)))\n"
      ],
      "metadata": {
        "colab": {
          "base_uri": "https://localhost:8080/"
        },
        "id": "4hRjJRnah2Xj",
        "outputId": "b702985e-8a82-4923-8986-3c79347317bd"
      },
      "id": "4hRjJRnah2Xj",
      "execution_count": null,
      "outputs": [
        {
          "output_type": "stream",
          "name": "stdout",
          "text": [
            "Variance of PCA Components: "
          ]
        },
        {
          "output_type": "stream",
          "name": "stderr",
          "text": [
            "/usr/local/lib/python3.10/dist-packages/sklearn/utils/validation.py:1143: DataConversionWarning: A column-vector y was passed when a 1d array was expected. Please change the shape of y to (n_samples, ), for example using ravel().\n",
            "  y = column_or_1d(y, warn=True)\n"
          ]
        },
        {
          "output_type": "stream",
          "name": "stdout",
          "text": [
            " [0.34935777 0.27755918 0.09590265 0.07310267 0.05329245 0.04707503\n",
            " 0.03147711 0.01827083 0.01697853 0.01129436]\n",
            "PCA & Logistic Regression Accuracy:  0.7932960893854749\n",
            "PCA & Logistic Regression Accuracy:  0.7932960893854749\n"
          ]
        },
        {
          "output_type": "stream",
          "name": "stderr",
          "text": [
            "/usr/local/lib/python3.10/dist-packages/sklearn/utils/validation.py:1143: DataConversionWarning: A column-vector y was passed when a 1d array was expected. Please change the shape of y to (n_samples, ), for example using ravel().\n",
            "  y = column_or_1d(y, warn=True)\n"
          ]
        }
      ]
    },
    {
      "cell_type": "code",
      "source": [
        "maj_vote = VotingClassifier(estimators = [('svm', svm), ('rfc', rfc), ('knn', knn), ('log_pca', log_pca), ('dt', dtr)], voting = 'hard')\n",
        "\n",
        "maj_vote.fit(X_train, y_train)\n",
        "\n",
        "print(\"Majority Voting Classifier Accuracy: \", maj_vote.score(X_test, y_test))"
      ],
      "metadata": {
        "colab": {
          "base_uri": "https://localhost:8080/"
        },
        "id": "KJXXh_-uEA0K",
        "outputId": "fa40722d-c21a-4a18-9c0e-27cdd4d6ee88"
      },
      "id": "KJXXh_-uEA0K",
      "execution_count": null,
      "outputs": [
        {
          "output_type": "stream",
          "name": "stderr",
          "text": [
            "/usr/local/lib/python3.10/dist-packages/sklearn/preprocessing/_label.py:99: DataConversionWarning: A column-vector y was passed when a 1d array was expected. Please change the shape of y to (n_samples, ), for example using ravel().\n",
            "  y = column_or_1d(y, warn=True)\n",
            "/usr/local/lib/python3.10/dist-packages/sklearn/preprocessing/_label.py:134: DataConversionWarning: A column-vector y was passed when a 1d array was expected. Please change the shape of y to (n_samples, ), for example using ravel().\n",
            "  y = column_or_1d(y, dtype=self.classes_.dtype, warn=True)\n"
          ]
        },
        {
          "output_type": "stream",
          "name": "stdout",
          "text": [
            "Majority Voting Classifier Accuracy:  0.8435754189944135\n"
          ]
        }
      ]
    },
    {
      "cell_type": "code",
      "source": [
        "stack = StackingClassifier(estimators = [('svm', svm), ('rfc', rfc), ('knn', knn), ('log_pca', log_pca), ('dt', dtr)], final_estimator = svm)\n",
        "\n",
        "stack.fit(X_train, y_train)\n",
        "\n",
        "print(\"Stacking Classifier Accuracy: \", stack.score(X_test, y_test))"
      ],
      "metadata": {
        "colab": {
          "base_uri": "https://localhost:8080/"
        },
        "id": "V0xslzOeGxdR",
        "outputId": "f406f7a1-6889-4f42-9a5f-62953b90aefa"
      },
      "id": "V0xslzOeGxdR",
      "execution_count": null,
      "outputs": [
        {
          "output_type": "stream",
          "name": "stderr",
          "text": [
            "/usr/local/lib/python3.10/dist-packages/sklearn/preprocessing/_label.py:99: DataConversionWarning: A column-vector y was passed when a 1d array was expected. Please change the shape of y to (n_samples, ), for example using ravel().\n",
            "  y = column_or_1d(y, warn=True)\n",
            "/usr/local/lib/python3.10/dist-packages/sklearn/preprocessing/_label.py:134: DataConversionWarning: A column-vector y was passed when a 1d array was expected. Please change the shape of y to (n_samples, ), for example using ravel().\n",
            "  y = column_or_1d(y, dtype=self.classes_.dtype, warn=True)\n"
          ]
        },
        {
          "output_type": "stream",
          "name": "stdout",
          "text": [
            "Stacking Classifier Accuracy:  0.8156424581005587\n"
          ]
        }
      ]
    },
    {
      "cell_type": "markdown",
      "source": [
        "# Conclusion & Results\n",
        "When looking at the accuracy scores produced by the various techniques, the best model in this case would be the Majority Voting Classifier, which produced the highest prediction accuracy of 84.36% using our own test data."
      ],
      "metadata": {
        "id": "I7MF20RUkPBK"
      },
      "id": "I7MF20RUkPBK"
    },
    {
      "cell_type": "code",
      "source": [
        "print(\"Naive Bayes Accuracy: \", gnb.score(X_test, y_test))\n",
        "print(\"Logistic Regression Accuracy: \", log.score(X_test, y_test))\n",
        "print(\"Decision Tree Accuracy: \", dtr.score(X_test, y_test))\n",
        "print(\"K Nearest Neighbors Accuracy: \", knn.score(X_test, y_test))\n",
        "print(\"AdaBoost Accuracy: \", ada.score(X_test, y_test))\n",
        "print(\"Random Forest Accuracy: \", rfc.score(X_test, y_test))\n",
        "print(\"Normal SVM Accuracy: \" , svm.score(X_test, y_test))\n",
        "print(\"Linear SVM Accuracy: \" , lin_svm.score(X_test, y_test))\n",
        "print(\"PCA & Logistic Regression Accuracy: \", log_pca.score(X_test_pca, y_test))\n",
        "print(\"Majority Voting Classifier Accuracy: \", maj_vote.score(X_test, y_test))\n",
        "print(\"Stacking Classifier Accuracy: \", stack.score(X_test, y_test))"
      ],
      "metadata": {
        "colab": {
          "base_uri": "https://localhost:8080/"
        },
        "id": "YMC2DEyrkRcg",
        "outputId": "17b13595-f064-4220-d485-c74f45002366"
      },
      "id": "YMC2DEyrkRcg",
      "execution_count": null,
      "outputs": [
        {
          "output_type": "stream",
          "name": "stdout",
          "text": [
            "Naive Bayes Accuracy:  0.40782122905027934\n",
            "Logistic Regression Accuracy:  0.7877094972067039\n",
            "Decision Tree Accuracy:  0.776536312849162\n",
            "K Nearest Neighbors Accuracy:  0.8044692737430168\n",
            "AdaBoost Accuracy:  0.7821229050279329\n",
            "Random Forest Accuracy:  0.8212290502793296\n",
            "Normal SVM Accuracy:  0.8156424581005587\n",
            "Linear SVM Accuracy:  0.8044692737430168\n",
            "PCA & Logistic Regression Accuracy:  0.7932960893854749\n",
            "Majority Voting Classifier Accuracy:  0.8435754189944135\n",
            "Stacking Classifier Accuracy:  0.8156424581005587\n"
          ]
        }
      ]
    },
    {
      "cell_type": "markdown",
      "source": [
        "# Predicting\n",
        "We will now use the data from `test.csv` to predict the values."
      ],
      "metadata": {
        "id": "dYbyiY1Xo0Ol"
      },
      "id": "dYbyiY1Xo0Ol"
    },
    {
      "cell_type": "code",
      "source": [
        "test = pd.read_csv(\"/content/drive/MyDrive/Colab Datasets/Titanic/test.csv\")"
      ],
      "metadata": {
        "id": "JyNWrtwqpFn0"
      },
      "id": "JyNWrtwqpFn0",
      "execution_count": null,
      "outputs": []
    },
    {
      "cell_type": "code",
      "source": [
        "test_X = test.drop(['PassengerId', 'Name', 'Cabin', 'Ticket'], axis = 1)"
      ],
      "metadata": {
        "id": "bTjBSRwhpUfW"
      },
      "id": "bTjBSRwhpUfW",
      "execution_count": null,
      "outputs": []
    },
    {
      "cell_type": "code",
      "source": [
        "test_X['Age'] = age_imputer.transform(test_X[['Age']])\n",
        "test_X['Embarked'].fillna(\"C\", inplace = True)"
      ],
      "metadata": {
        "id": "ZsUExlMap0hr"
      },
      "id": "ZsUExlMap0hr",
      "execution_count": null,
      "outputs": []
    },
    {
      "cell_type": "code",
      "source": [
        "categorical_var = ['Sex', 'Embarked', 'Pclass', 'SibSp', 'Parch']\n",
        "\n",
        "test_X_one_hot_encoded = encoder.transform(test_X[categorical_var])\n",
        "test_X_one_hot_df = pd.DataFrame(test_X_one_hot_encoded, columns = encoder.get_feature_names_out(categorical_var))\n",
        "\n",
        "test_X = pd.concat([test_X, test_X_one_hot_df], axis = 1)\n",
        "test_X = test_X.drop(categorical_var, axis = 1)"
      ],
      "metadata": {
        "colab": {
          "base_uri": "https://localhost:8080/"
        },
        "id": "XiT1xVKwp1kA",
        "outputId": "156d8459-f01e-407e-8b64-48c61edc76c5"
      },
      "id": "XiT1xVKwp1kA",
      "execution_count": null,
      "outputs": [
        {
          "output_type": "stream",
          "name": "stderr",
          "text": [
            "/usr/local/lib/python3.10/dist-packages/sklearn/preprocessing/_encoders.py:202: UserWarning: Found unknown categories in columns [4] during transform. These unknown categories will be encoded as all zeros\n",
            "  warnings.warn(\n"
          ]
        }
      ]
    },
    {
      "cell_type": "code",
      "source": [
        "ord_var = ['Age', 'Fare']\n",
        "\n",
        "new_ord_var_test = pd.DataFrame(scaler.transform(test_X[ord_var]), columns = ord_var)\n",
        "test_X = test_X.drop(ord_var, axis = 1)\n",
        "test_X = pd.concat([test_X, new_ord_var_test], axis = 1)"
      ],
      "metadata": {
        "id": "22vCJ8lxqhzL"
      },
      "id": "22vCJ8lxqhzL",
      "execution_count": null,
      "outputs": []
    },
    {
      "cell_type": "code",
      "source": [
        "print(test_X.isna().sum())\n",
        "test_X.dropna(inplace = True)"
      ],
      "metadata": {
        "colab": {
          "base_uri": "https://localhost:8080/"
        },
        "id": "u5fTM2K7uuX1",
        "outputId": "8183799d-4e93-4371-ba43-aee956b26167"
      },
      "id": "u5fTM2K7uuX1",
      "execution_count": null,
      "outputs": [
        {
          "output_type": "stream",
          "name": "stdout",
          "text": [
            "Sex_male      0\n",
            "Embarked_Q    0\n",
            "Embarked_S    0\n",
            "Pclass_2      0\n",
            "Pclass_3      0\n",
            "SibSp_1       0\n",
            "SibSp_2       0\n",
            "SibSp_3       0\n",
            "SibSp_4       0\n",
            "SibSp_5       0\n",
            "SibSp_8       0\n",
            "Parch_1       0\n",
            "Parch_2       0\n",
            "Parch_3       0\n",
            "Parch_4       0\n",
            "Parch_5       0\n",
            "Parch_6       0\n",
            "Age           0\n",
            "Fare          1\n",
            "dtype: int64\n"
          ]
        }
      ]
    },
    {
      "cell_type": "code",
      "source": [
        "print(\"Predictions are: \", maj_vote.predict(test_X))"
      ],
      "metadata": {
        "colab": {
          "base_uri": "https://localhost:8080/"
        },
        "id": "5IphTDFPq9En",
        "outputId": "7ef5d3b6-09dc-46c6-f003-eded66aa00cf"
      },
      "id": "5IphTDFPq9En",
      "execution_count": null,
      "outputs": [
        {
          "output_type": "stream",
          "name": "stdout",
          "text": [
            "Predictions are:  [0 0 0 0 0 0 1 0 1 0 0 0 1 0 1 1 0 0 0 0 0 0 1 1 1 0 1 0 1 0 0 0 0 0 1 0 0\n",
            " 0 0 1 0 0 0 1 1 0 0 0 1 0 1 0 1 1 0 0 0 0 0 1 0 0 0 1 1 1 1 0 0 1 1 0 0 0\n",
            " 1 0 0 1 0 1 1 0 0 0 0 0 1 0 1 1 0 0 1 0 0 0 1 0 1 0 1 0 0 0 1 0 0 0 0 0 0\n",
            " 1 1 1 1 0 0 1 0 1 1 0 1 0 0 1 0 1 0 0 0 0 0 0 0 0 0 0 0 0 0 1 0 0 0 0 0 0\n",
            " 0 0 1 0 1 0 0 1 0 0 1 1 1 1 0 0 0 0 0 1 0 0 0 0 0 0 1 1 0 1 1 0 1 1 0 1 0\n",
            " 1 0 0 0 0 0 0 0 1 0 1 0 0 0 1 1 1 1 0 0 1 0 1 0 0 0 0 0 0 0 1 0 1 0 1 0 1\n",
            " 0 1 1 0 1 0 0 0 1 0 0 0 0 0 0 1 1 1 1 1 0 0 0 1 0 1 1 1 0 0 0 0 0 0 0 1 0\n",
            " 0 0 1 1 0 0 0 0 0 0 0 0 1 1 0 1 0 0 0 0 0 1 1 1 1 0 0 0 0 0 0 1 0 0 0 0 1\n",
            " 0 0 0 0 0 0 0 1 1 1 1 0 0 0 0 0 1 1 1 0 0 0 0 0 0 0 1 1 0 1 0 0 0 1 0 0 1\n",
            " 0 0 0 0 0 0 0 0 0 1 0 1 0 1 0 1 1 0 0 0 1 0 1 0 0 1 0 1 1 0 1 0 0 0 1 0 0\n",
            " 1 0 0 1 1 0 0 0 0 0 0 1 0 0 1 0 0 0 0 0 1 0 0 0 1 0 1 0 0 1 0 1 0 0 0 0 1\n",
            " 1 1 1 1 0 0 1 0 0 1]\n"
          ]
        }
      ]
    }
  ],
  "metadata": {
    "kernelspec": {
      "display_name": "Python 3 (ipykernel)",
      "language": "python",
      "name": "python3"
    },
    "language_info": {
      "codemirror_mode": {
        "name": "ipython",
        "version": 3
      },
      "file_extension": ".py",
      "mimetype": "text/x-python",
      "name": "python",
      "nbconvert_exporter": "python",
      "pygments_lexer": "ipython3",
      "version": "3.11.5"
    },
    "colab": {
      "provenance": [],
      "include_colab_link": true
    }
  },
  "nbformat": 4,
  "nbformat_minor": 5
}